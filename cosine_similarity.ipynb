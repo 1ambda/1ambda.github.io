{
  "nbformat": 4,
  "nbformat_minor": 0,
  "metadata": {
    "colab": {
      "name": "cosine-similarity.ipynb",
      "version": "0.3.2",
      "provenance": [],
      "collapsed_sections": [],
      "include_colab_link": true
    },
    "kernelspec": {
      "name": "python3",
      "display_name": "Python 3"
    }
  },
  "cells": [
    {
      "cell_type": "markdown",
      "metadata": {
        "id": "view-in-github",
        "colab_type": "text"
      },
      "source": [
        "<a href=\"https://colab.research.google.com/github/1ambda/1ambda.github.io/blob/master/cosine_similarity.ipynb\" target=\"_parent\"><img src=\"https://colab.research.google.com/assets/colab-badge.svg\" alt=\"Open In Colab\"/></a>"
      ]
    },
    {
      "cell_type": "code",
      "metadata": {
        "id": "7kGzgZDDlKLo",
        "colab_type": "code",
        "colab": {
          "base_uri": "https://localhost:8080/",
          "height": 122
        },
        "outputId": "15e3f722-a429-438f-b947-0d7cf224c793"
      },
      "source": [
        "!pip install numpy pandas"
      ],
      "execution_count": 2,
      "outputs": [
        {
          "output_type": "stream",
          "text": [
            "Requirement already satisfied: numpy in /usr/local/lib/python3.6/dist-packages (1.16.4)\n",
            "Requirement already satisfied: pandas in /usr/local/lib/python3.6/dist-packages (0.24.2)\n",
            "Requirement already satisfied: python-dateutil>=2.5.0 in /usr/local/lib/python3.6/dist-packages (from pandas) (2.5.3)\n",
            "Requirement already satisfied: pytz>=2011k in /usr/local/lib/python3.6/dist-packages (from pandas) (2018.9)\n",
            "Requirement already satisfied: six>=1.5 in /usr/local/lib/python3.6/dist-packages (from python-dateutil>=2.5.0->pandas) (1.12.0)\n"
          ],
          "name": "stdout"
        }
      ]
    },
    {
      "cell_type": "code",
      "metadata": {
        "id": "DJfWzcKGjiKc",
        "colab_type": "code",
        "outputId": "ada3e253-b5d4-4511-dbf2-dc57808e24b8",
        "colab": {
          "base_uri": "https://localhost:8080/",
          "height": 300
        }
      },
      "source": [
        "import numpy as np\n",
        "import pandas as pd\n",
        "\n",
        "X = np.array([[6.6, 6.2, 1],\n",
        "              [9.7, 9.9, 2],\n",
        "              [8.0, 8.3, 2],\n",
        "              [6.3, 5.4, 1],\n",
        "              [1.3, 2.7, 0],\n",
        "              [2.3, 3.1, 0],\n",
        "              [6.6, 6.0, 1],\n",
        "              [6.5, 6.4, 1],\n",
        "              [6.3, 5.8, 1],\n",
        "              [9.5, 9.9, 2],\n",
        "              [8.9, 8.9, 2],\n",
        "              [8.7, 9.5, 2],\n",
        "              [2.5, 3.8, 0],\n",
        "              [2.0, 3.1, 0],\n",
        "              [1.3, 1.3, 0]])\n",
        "\n",
        "df = pd.DataFrame(X, columns=['weight', 'length', 'label'])\n",
        "\n",
        "ax = df[df['label'] == 0].plot.scatter(x='weight', y='length', c='blue', label='young')\n",
        "ax = df[df['label'] == 1].plot.scatter(x='weight', y='length', c='orange', label='mid', ax=ax)\n",
        "ax = df[df['label'] == 2].plot.scatter(x='weight', y='length', c='red', label='adult', ax=ax)\n",
        "ax"
      ],
      "execution_count": 5,
      "outputs": [
        {
          "output_type": "execute_result",
          "data": {
            "text/plain": [
              "<matplotlib.axes._subplots.AxesSubplot at 0x7fc32ca9e278>"
            ]
          },
          "metadata": {
            "tags": []
          },
          "execution_count": 5
        },
        {
          "output_type": "display_data",
          "data": {
            "image/png": "[encoded data removed]",
            "text/plain": [
              "<Figure size 432x288 with 1 Axes>"
            ]
          },
          "metadata": {
            "tags": []
          }
        }
      ]
    },
    {
      "cell_type": "markdown",
      "metadata": {
        "id": "YTDw2h8VoeKH",
        "colab_type": "text"
      },
      "source": [
        "## 메트릭 선별"
      ]
    },
    {
      "cell_type": "code",
      "metadata": {
        "id": "YrNTMjBnob8b",
        "colab_type": "code",
        "colab": {
          "base_uri": "https://localhost:8080/",
          "height": 300
        },
        "outputId": "54b8aeaf-28fb-496f-b878-088da4037045"
      },
      "source": [
        "df2 = pd.DataFrame([df.iloc[0], df.iloc[1], df.iloc[4]], columns=['weight', 'length', 'label'])\n",
        "df3 = pd.DataFrame([df.iloc[14]], columns=['weight', 'length', 'label'])\n",
        "\n",
        "ax = df2[df2['label'] == 0].plot.scatter(x='weight', y='length', c='blue', label='young (x4)')\n",
        "ax = df2[df2['label'] == 1].plot.scatter(x='weight', y='length', c='orange', label='mid (x0)', ax=ax)\n",
        "ax = df2[df2['label'] == 2].plot.scatter(x='weight', y='length', c='red', label='adult (x1)', ax=ax)\n",
        "ax = df3.plot.scatter(x='weight', y='length', c='gray', label='? (x14)', ax=ax)\n",
        "ax"
      ],
      "execution_count": 13,
      "outputs": [
        {
          "output_type": "execute_result",
          "data": {
            "text/plain": [
              "<matplotlib.axes._subplots.AxesSubplot at 0x7fc329d799e8>"
            ]
          },
          "metadata": {
            "tags": []
          },
          "execution_count": 13
        },
        {
          "output_type": "display_data",
          "data": {
            "image/png": "[encoded data removed]",
            "text/plain": [
              "<Figure size 432x288 with 1 Axes>"
            ]
          },
          "metadata": {
            "tags": []
          }
        }
      ]
    },
    {
      "cell_type": "markdown",
      "metadata": {
        "id": "fcUQpshZoI-b",
        "colab_type": "text"
      },
      "source": [
        "## 유클리드 거리"
      ]
    },
    {
      "cell_type": "code",
      "metadata": {
        "id": "SdGVx0HtoBDb",
        "colab_type": "code",
        "colab": {
          "base_uri": "https://localhost:8080/",
          "height": 170
        },
        "outputId": "1eead187-eae2-4de8-dd60-797e0a485682"
      },
      "source": [
        "def euclidean_distance(x, y):   \n",
        "    return np.sqrt(np.sum((x - y) ** 2))\n",
        "\n",
        "x0 = X[0][:-1]\n",
        "x1 = X[1][:-1]\n",
        "x4 = X[4][:-1]\n",
        "x14 = X[14][:-1]\n",
        "print(\" x0:\", x0, \"\\n x1:\", x1, \"\\n x4:\", x4, \"\\nx14:\", x14)\n",
        "print(\"\\n\")\n",
        "\n",
        "print(\" x14 and x0:\", euclidean_distance(x14, x0), \"\\n\",\n",
        "      \"x14 and x1:\", euclidean_distance(x14, x1), \"\\n\",\n",
        "      \"x14 and x4:\", euclidean_distance(x14, x4))"
      ],
      "execution_count": 10,
      "outputs": [
        {
          "output_type": "stream",
          "text": [
            " x0: [6.6 6.2] \n",
            " x1: [9.7 9.9] \n",
            " x4: [1.3 2.7] \n",
            "x14: [1.3 1.3]\n",
            "\n",
            "\n",
            " x14 and x0: 7.218032973047436 \n",
            " x14 and x1: 12.021647141718974 \n",
            " x14 and x4: 1.4000000000000001\n"
          ],
          "name": "stdout"
        }
      ]
    },
    {
      "cell_type": "markdown",
      "metadata": {
        "id": "UbbsgrMto2yK",
        "colab_type": "text"
      },
      "source": [
        "유클리드 거리 이용시 `x14` 는 `x4` 와 가장 가까움. 따라서 k-NN 적용시 `young` 클래스로 추측할 수 있다 "
      ]
    },
    {
      "cell_type": "markdown",
      "metadata": {
        "id": "D2CnJ_dqqJQZ",
        "colab_type": "text"
      },
      "source": [
        "## 코사인 유사도"
      ]
    },
    {
      "cell_type": "code",
      "metadata": {
        "id": "rAcMzuipoPWu",
        "colab_type": "code",
        "colab": {
          "base_uri": "https://localhost:8080/",
          "height": 68
        },
        "outputId": "cc389ce0-1089-40d5-aa07-25a5503c31a4"
      },
      "source": [
        "def cosine_similarity(x, y):\n",
        "    return np.dot(x, y) / (np.sqrt(np.dot(x, x)) * np.sqrt(np.dot(y, y)))\n",
        "\n",
        "print(\" x14 and x0:\", cosine_similarity(x14, x0), \"\\n\",\n",
        "      \"x14 and x1:\", cosine_similarity(x14, x1), \"\\n\",\n",
        "      \"x14 and x4:\", cosine_similarity(x14, x4))"
      ],
      "execution_count": 14,
      "outputs": [
        {
          "output_type": "stream",
          "text": [
            " x14 and x0: 0.9995120760870786 \n",
            " x14 and x1: 0.9999479424242859 \n",
            " x14 and x4: 0.9438583563660174\n"
          ],
          "name": "stdout"
        }
      ]
    },
    {
      "cell_type": "markdown",
      "metadata": {
        "id": "lTtkpjmKqOEA",
        "colab_type": "text"
      },
      "source": [
        "`x14` 가 `x1` 과 가장 유사한 것으로 표현"
      ]
    },
    {
      "cell_type": "markdown",
      "metadata": {
        "id": "O7Ilrx2TqSjd",
        "colab_type": "text"
      },
      "source": [
        "## 코사인 유사도를 언제 사용하는가?\n",
        "\n",
        "**코사인 유사도는 무게나 크기는 전혀 고려하지 않고 벡터 사이의 각도만으로 측정**\n",
        "\n",
        "벡터의 크기가 중요하지 않을 때 거리를 측정하기 위한 메트릭으로 사용. 예를 들어 문서의 길이가 다른데, `science` 단어의 포함 여부로 과학 문서로 판단하고 싶을 경우 등"
      ]
    },
    {
      "cell_type": "code",
      "metadata": {
        "id": "X2-jHziMqMl6",
        "colab_type": "code",
        "colab": {}
      },
      "source": [
        ""
      ],
      "execution_count": 0,
      "outputs": []
    }
  ]
}